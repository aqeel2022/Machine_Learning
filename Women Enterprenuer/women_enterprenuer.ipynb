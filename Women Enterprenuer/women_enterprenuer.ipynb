{
 "cells": [
  {
   "cell_type": "markdown",
   "metadata": {},
   "source": [
    "# Women Enterprenuer and Labour Prediction with Machine learning"
   ]
  },
  {
   "cell_type": "code",
   "execution_count": 13,
   "metadata": {},
   "outputs": [],
   "source": [
    "#import the libraries\n",
    "\n",
    "import os\n",
    "import numpy as np\n",
    "import pandas as pd\n",
    "import seaborn as sns\n",
    "import matplotlib.pyplot as plt\n",
    "import csv\n",
    "import warnings\n",
    "warnings.filterwarnings(\"ignore\")"
   ]
  },
  {
   "cell_type": "code",
   "execution_count": 2,
   "metadata": {},
   "outputs": [
    {
     "data": {
      "text/html": [
       "<div>\n",
       "<style scoped>\n",
       "    .dataframe tbody tr th:only-of-type {\n",
       "        vertical-align: middle;\n",
       "    }\n",
       "\n",
       "    .dataframe tbody tr th {\n",
       "        vertical-align: top;\n",
       "    }\n",
       "\n",
       "    .dataframe thead th {\n",
       "        text-align: right;\n",
       "    }\n",
       "</style>\n",
       "<table border=\"1\" class=\"dataframe\">\n",
       "  <thead>\n",
       "    <tr style=\"text-align: right;\">\n",
       "      <th></th>\n",
       "      <th>No;Country;Level of development;European Union Membership;Currency;Women Entrepreneurship Index;Entrepreneurship Index;Inflation rate;Female Labor Force Participation Rate</th>\n",
       "    </tr>\n",
       "  </thead>\n",
       "  <tbody>\n",
       "    <tr>\n",
       "      <th>0</th>\n",
       "      <td>4;Austria;Developed;Member;Euro;54.9;64.9;0.9;...</td>\n",
       "    </tr>\n",
       "    <tr>\n",
       "      <th>1</th>\n",
       "      <td>6;Belgium;Developed;Member;Euro;63.6;65.5;0.6;58</td>\n",
       "    </tr>\n",
       "    <tr>\n",
       "      <th>2</th>\n",
       "      <td>17;Estonia;Developed;Member;Euro;55.4;60.2;-0....</td>\n",
       "    </tr>\n",
       "    <tr>\n",
       "      <th>3</th>\n",
       "      <td>18;Finland;Developed;Member;Euro;66.4;65.7;-0....</td>\n",
       "    </tr>\n",
       "    <tr>\n",
       "      <th>4</th>\n",
       "      <td>19;France;Developed;Member;Euro;68.8;67.3;0;60.6</td>\n",
       "    </tr>\n",
       "  </tbody>\n",
       "</table>\n",
       "</div>"
      ],
      "text/plain": [
       "  No;Country;Level of development;European Union Membership;Currency;Women Entrepreneurship Index;Entrepreneurship Index;Inflation rate;Female Labor Force Participation Rate\n",
       "0  4;Austria;Developed;Member;Euro;54.9;64.9;0.9;...                                                                                                                         \n",
       "1   6;Belgium;Developed;Member;Euro;63.6;65.5;0.6;58                                                                                                                         \n",
       "2  17;Estonia;Developed;Member;Euro;55.4;60.2;-0....                                                                                                                         \n",
       "3  18;Finland;Developed;Member;Euro;66.4;65.7;-0....                                                                                                                         \n",
       "4   19;France;Developed;Member;Euro;68.8;67.3;0;60.6                                                                                                                         "
      ]
     },
     "execution_count": 2,
     "metadata": {},
     "output_type": "execute_result"
    }
   ],
   "source": [
    "#import the file from the directory \n",
    "\n",
    "data = pd.read_csv('women_dataset.csv')\n",
    "data.head()"
   ]
  },
  {
   "cell_type": "markdown",
   "metadata": {},
   "source": [
    "ok..! so this dataset is delimited or separated by ';' . we need to change modify our previous line of code"
   ]
  },
  {
   "cell_type": "code",
   "execution_count": 3,
   "metadata": {},
   "outputs": [
    {
     "data": {
      "text/html": [
       "<div>\n",
       "<style scoped>\n",
       "    .dataframe tbody tr th:only-of-type {\n",
       "        vertical-align: middle;\n",
       "    }\n",
       "\n",
       "    .dataframe tbody tr th {\n",
       "        vertical-align: top;\n",
       "    }\n",
       "\n",
       "    .dataframe thead th {\n",
       "        text-align: right;\n",
       "    }\n",
       "</style>\n",
       "<table border=\"1\" class=\"dataframe\">\n",
       "  <thead>\n",
       "    <tr style=\"text-align: right;\">\n",
       "      <th></th>\n",
       "      <th>No</th>\n",
       "      <th>Country</th>\n",
       "      <th>Level of development</th>\n",
       "      <th>European Union Membership</th>\n",
       "      <th>Currency</th>\n",
       "      <th>Women Entrepreneurship Index</th>\n",
       "      <th>Entrepreneurship Index</th>\n",
       "      <th>Inflation rate</th>\n",
       "      <th>Female Labor Force Participation Rate</th>\n",
       "    </tr>\n",
       "  </thead>\n",
       "  <tbody>\n",
       "    <tr>\n",
       "      <th>0</th>\n",
       "      <td>4</td>\n",
       "      <td>Austria</td>\n",
       "      <td>Developed</td>\n",
       "      <td>Member</td>\n",
       "      <td>Euro</td>\n",
       "      <td>54.9</td>\n",
       "      <td>64.9</td>\n",
       "      <td>0.90</td>\n",
       "      <td>67.1</td>\n",
       "    </tr>\n",
       "    <tr>\n",
       "      <th>1</th>\n",
       "      <td>6</td>\n",
       "      <td>Belgium</td>\n",
       "      <td>Developed</td>\n",
       "      <td>Member</td>\n",
       "      <td>Euro</td>\n",
       "      <td>63.6</td>\n",
       "      <td>65.5</td>\n",
       "      <td>0.60</td>\n",
       "      <td>58.0</td>\n",
       "    </tr>\n",
       "    <tr>\n",
       "      <th>2</th>\n",
       "      <td>17</td>\n",
       "      <td>Estonia</td>\n",
       "      <td>Developed</td>\n",
       "      <td>Member</td>\n",
       "      <td>Euro</td>\n",
       "      <td>55.4</td>\n",
       "      <td>60.2</td>\n",
       "      <td>-0.88</td>\n",
       "      <td>68.5</td>\n",
       "    </tr>\n",
       "    <tr>\n",
       "      <th>3</th>\n",
       "      <td>18</td>\n",
       "      <td>Finland</td>\n",
       "      <td>Developed</td>\n",
       "      <td>Member</td>\n",
       "      <td>Euro</td>\n",
       "      <td>66.4</td>\n",
       "      <td>65.7</td>\n",
       "      <td>-0.20</td>\n",
       "      <td>67.7</td>\n",
       "    </tr>\n",
       "    <tr>\n",
       "      <th>4</th>\n",
       "      <td>19</td>\n",
       "      <td>France</td>\n",
       "      <td>Developed</td>\n",
       "      <td>Member</td>\n",
       "      <td>Euro</td>\n",
       "      <td>68.8</td>\n",
       "      <td>67.3</td>\n",
       "      <td>0.00</td>\n",
       "      <td>60.6</td>\n",
       "    </tr>\n",
       "  </tbody>\n",
       "</table>\n",
       "</div>"
      ],
      "text/plain": [
       "   No  Country Level of development European Union Membership Currency  \\\n",
       "0   4  Austria            Developed                    Member     Euro   \n",
       "1   6  Belgium            Developed                    Member     Euro   \n",
       "2  17  Estonia            Developed                    Member     Euro   \n",
       "3  18  Finland            Developed                    Member     Euro   \n",
       "4  19   France            Developed                    Member     Euro   \n",
       "\n",
       "   Women Entrepreneurship Index  Entrepreneurship Index  Inflation rate  \\\n",
       "0                          54.9                    64.9            0.90   \n",
       "1                          63.6                    65.5            0.60   \n",
       "2                          55.4                    60.2           -0.88   \n",
       "3                          66.4                    65.7           -0.20   \n",
       "4                          68.8                    67.3            0.00   \n",
       "\n",
       "   Female Labor Force Participation Rate  \n",
       "0                                   67.1  \n",
       "1                                   58.0  \n",
       "2                                   68.5  \n",
       "3                                   67.7  \n",
       "4                                   60.6  "
      ]
     },
     "execution_count": 3,
     "metadata": {},
     "output_type": "execute_result"
    }
   ],
   "source": [
    "data = pd.read_csv('women_dataset.csv', sep=';')\n",
    "data.head()"
   ]
  },
  {
   "cell_type": "markdown",
   "metadata": {},
   "source": [
    "Yep... that looks good now ! "
   ]
  },
  {
   "cell_type": "code",
   "execution_count": 5,
   "metadata": {},
   "outputs": [
    {
     "data": {
      "text/plain": [
       "(51, 9)"
      ]
     },
     "execution_count": 5,
     "metadata": {},
     "output_type": "execute_result"
    }
   ],
   "source": [
    "#let us check the shape of the dataset \n",
    "\n",
    "data.shape"
   ]
  },
  {
   "cell_type": "markdown",
   "metadata": {},
   "source": [
    "ok.. so the data is so small.. it has only 51 rows and 9 colunms "
   ]
  },
  {
   "cell_type": "markdown",
   "metadata": {},
   "source": [
    "let us check the features information in the dataset"
   ]
  },
  {
   "cell_type": "code",
   "execution_count": 6,
   "metadata": {},
   "outputs": [
    {
     "name": "stdout",
     "output_type": "stream",
     "text": [
      "<class 'pandas.core.frame.DataFrame'>\n",
      "RangeIndex: 51 entries, 0 to 50\n",
      "Data columns (total 9 columns):\n",
      " #   Column                                 Non-Null Count  Dtype  \n",
      "---  ------                                 --------------  -----  \n",
      " 0   No                                     51 non-null     int64  \n",
      " 1   Country                                51 non-null     object \n",
      " 2   Level of development                   51 non-null     object \n",
      " 3   European Union Membership              51 non-null     object \n",
      " 4   Currency                               51 non-null     object \n",
      " 5   Women Entrepreneurship Index           51 non-null     float64\n",
      " 6   Entrepreneurship Index                 51 non-null     float64\n",
      " 7   Inflation rate                         51 non-null     float64\n",
      " 8   Female Labor Force Participation Rate  51 non-null     float64\n",
      "dtypes: float64(4), int64(1), object(4)\n",
      "memory usage: 3.7+ KB\n"
     ]
    }
   ],
   "source": [
    "data.info()"
   ]
  },
  {
   "cell_type": "markdown",
   "metadata": {},
   "source": [
    "let us also check the statistical information about the dataset ..! "
   ]
  },
  {
   "cell_type": "code",
   "execution_count": 7,
   "metadata": {},
   "outputs": [
    {
     "data": {
      "text/html": [
       "<div>\n",
       "<style scoped>\n",
       "    .dataframe tbody tr th:only-of-type {\n",
       "        vertical-align: middle;\n",
       "    }\n",
       "\n",
       "    .dataframe tbody tr th {\n",
       "        vertical-align: top;\n",
       "    }\n",
       "\n",
       "    .dataframe thead th {\n",
       "        text-align: right;\n",
       "    }\n",
       "</style>\n",
       "<table border=\"1\" class=\"dataframe\">\n",
       "  <thead>\n",
       "    <tr style=\"text-align: right;\">\n",
       "      <th></th>\n",
       "      <th>No</th>\n",
       "      <th>Women Entrepreneurship Index</th>\n",
       "      <th>Entrepreneurship Index</th>\n",
       "      <th>Inflation rate</th>\n",
       "      <th>Female Labor Force Participation Rate</th>\n",
       "    </tr>\n",
       "  </thead>\n",
       "  <tbody>\n",
       "    <tr>\n",
       "      <th>count</th>\n",
       "      <td>51.000000</td>\n",
       "      <td>51.000000</td>\n",
       "      <td>51.000000</td>\n",
       "      <td>51.000000</td>\n",
       "      <td>51.000000</td>\n",
       "    </tr>\n",
       "    <tr>\n",
       "      <th>mean</th>\n",
       "      <td>29.980392</td>\n",
       "      <td>47.835294</td>\n",
       "      <td>47.241176</td>\n",
       "      <td>2.587647</td>\n",
       "      <td>58.481765</td>\n",
       "    </tr>\n",
       "    <tr>\n",
       "      <th>std</th>\n",
       "      <td>18.017203</td>\n",
       "      <td>14.268480</td>\n",
       "      <td>16.193149</td>\n",
       "      <td>5.380639</td>\n",
       "      <td>13.864567</td>\n",
       "    </tr>\n",
       "    <tr>\n",
       "      <th>min</th>\n",
       "      <td>1.000000</td>\n",
       "      <td>25.300000</td>\n",
       "      <td>24.800000</td>\n",
       "      <td>-2.250000</td>\n",
       "      <td>13.000000</td>\n",
       "    </tr>\n",
       "    <tr>\n",
       "      <th>25%</th>\n",
       "      <td>14.500000</td>\n",
       "      <td>36.350000</td>\n",
       "      <td>31.900000</td>\n",
       "      <td>-0.500000</td>\n",
       "      <td>55.800000</td>\n",
       "    </tr>\n",
       "    <tr>\n",
       "      <th>50%</th>\n",
       "      <td>30.000000</td>\n",
       "      <td>44.500000</td>\n",
       "      <td>42.700000</td>\n",
       "      <td>0.600000</td>\n",
       "      <td>61.000000</td>\n",
       "    </tr>\n",
       "    <tr>\n",
       "      <th>75%</th>\n",
       "      <td>45.500000</td>\n",
       "      <td>59.150000</td>\n",
       "      <td>65.400000</td>\n",
       "      <td>3.600000</td>\n",
       "      <td>67.400000</td>\n",
       "    </tr>\n",
       "    <tr>\n",
       "      <th>max</th>\n",
       "      <td>60.000000</td>\n",
       "      <td>74.800000</td>\n",
       "      <td>77.600000</td>\n",
       "      <td>26.500000</td>\n",
       "      <td>82.300000</td>\n",
       "    </tr>\n",
       "  </tbody>\n",
       "</table>\n",
       "</div>"
      ],
      "text/plain": [
       "              No  Women Entrepreneurship Index  Entrepreneurship Index  \\\n",
       "count  51.000000                     51.000000               51.000000   \n",
       "mean   29.980392                     47.835294               47.241176   \n",
       "std    18.017203                     14.268480               16.193149   \n",
       "min     1.000000                     25.300000               24.800000   \n",
       "25%    14.500000                     36.350000               31.900000   \n",
       "50%    30.000000                     44.500000               42.700000   \n",
       "75%    45.500000                     59.150000               65.400000   \n",
       "max    60.000000                     74.800000               77.600000   \n",
       "\n",
       "       Inflation rate  Female Labor Force Participation Rate  \n",
       "count       51.000000                              51.000000  \n",
       "mean         2.587647                              58.481765  \n",
       "std          5.380639                              13.864567  \n",
       "min         -2.250000                              13.000000  \n",
       "25%         -0.500000                              55.800000  \n",
       "50%          0.600000                              61.000000  \n",
       "75%          3.600000                              67.400000  \n",
       "max         26.500000                              82.300000  "
      ]
     },
     "execution_count": 7,
     "metadata": {},
     "output_type": "execute_result"
    }
   ],
   "source": [
    "data.describe()"
   ]
  },
  {
   "cell_type": "code",
   "execution_count": 11,
   "metadata": {},
   "outputs": [
    {
     "data": {
      "text/plain": [
       "Index(['No', 'Women Entrepreneurship Index', 'Entrepreneurship Index',\n",
       "       'Inflation rate', 'Female Labor Force Participation Rate'],\n",
       "      dtype='object')"
      ]
     },
     "execution_count": 11,
     "metadata": {},
     "output_type": "execute_result"
    }
   ],
   "source": [
    "data.describe().columns"
   ]
  },
  {
   "cell_type": "markdown",
   "metadata": {},
   "source": [
    "Now let us check if any of the value in the dataset is empty or NULL"
   ]
  },
  {
   "cell_type": "code",
   "execution_count": 12,
   "metadata": {},
   "outputs": [
    {
     "data": {
      "text/plain": [
       "No                                       0\n",
       "Country                                  0\n",
       "Level of development                     0\n",
       "European Union Membership                0\n",
       "Currency                                 0\n",
       "Women Entrepreneurship Index             0\n",
       "Entrepreneurship Index                   0\n",
       "Inflation rate                           0\n",
       "Female Labor Force Participation Rate    0\n",
       "dtype: int64"
      ]
     },
     "execution_count": 12,
     "metadata": {},
     "output_type": "execute_result"
    }
   ],
   "source": [
    "data.isnull().sum()"
   ]
  },
  {
   "cell_type": "markdown",
   "metadata": {},
   "source": [
    "So not a single row has NULL value.. that's good..! "
   ]
  },
  {
   "cell_type": "markdown",
   "metadata": {},
   "source": [
    "We need to undertand the dataset with all respects.. so we will do some more manipulations...!"
   ]
  },
  {
   "cell_type": "code",
   "execution_count": 19,
   "metadata": {},
   "outputs": [
    {
     "data": {
      "text/plain": [
       "Slovakia                  1\n",
       "Greece                    1\n",
       "Japan                     1\n",
       "France                    1\n",
       "Algeria                   1\n",
       "Thailand                  1\n",
       "Mexico                    1\n",
       "Jamaica                   1\n",
       "Turkey                    1\n",
       "Netherlands               1\n",
       "Iceland                   1\n",
       "Singapore                 1\n",
       "Brazil                    1\n",
       "Lithuania                 1\n",
       "El Salvador               1\n",
       "Australia                 1\n",
       "Belgium                   1\n",
       "Hungary                   1\n",
       "Spain                     1\n",
       "Denmark                   1\n",
       "Tunisia                   1\n",
       "Ireland                   1\n",
       "Bolivia                   1\n",
       "Taiwan                    1\n",
       "Russia                    1\n",
       "Peru                      1\n",
       "Argentina                 1\n",
       "Austria                   1\n",
       "Sweden                    1\n",
       "Bosnia and Herzegovina    1\n",
       "Panama                    1\n",
       "Uruguay                   1\n",
       "Switzerland               1\n",
       "Estonia                   1\n",
       "Ecuador                   1\n",
       "Italy                     1\n",
       "Saudi Arabia              1\n",
       "Ghana                     1\n",
       "Malaysia                  1\n",
       "Costa Rica                1\n",
       "Norway                    1\n",
       "Macedonia                 1\n",
       "Croatia                   1\n",
       "Latvia                    1\n",
       "Slovenia                  1\n",
       "India                     1\n",
       "Germany                   1\n",
       "Poland                    1\n",
       "Egypt                     1\n",
       "Finland                   1\n",
       "China                     1\n",
       "Name: Country, dtype: int64"
      ]
     },
     "execution_count": 19,
     "metadata": {},
     "output_type": "execute_result"
    }
   ],
   "source": [
    "data.Country.value_counts()"
   ]
  },
  {
   "cell_type": "markdown",
   "metadata": {},
   "source": [
    "So the dataset has countries from Europe, Africa and Asia..! \n",
    "the dataset has categorical values as well.. let us separate those and numericals"
   ]
  },
  {
   "cell_type": "code",
   "execution_count": 68,
   "metadata": {},
   "outputs": [],
   "source": [
    "categorical_data = data.select_dtypes(exclude=[np.number])"
   ]
  },
  {
   "cell_type": "code",
   "execution_count": 69,
   "metadata": {},
   "outputs": [
    {
     "data": {
      "text/html": [
       "<div>\n",
       "<style scoped>\n",
       "    .dataframe tbody tr th:only-of-type {\n",
       "        vertical-align: middle;\n",
       "    }\n",
       "\n",
       "    .dataframe tbody tr th {\n",
       "        vertical-align: top;\n",
       "    }\n",
       "\n",
       "    .dataframe thead th {\n",
       "        text-align: right;\n",
       "    }\n",
       "</style>\n",
       "<table border=\"1\" class=\"dataframe\">\n",
       "  <thead>\n",
       "    <tr style=\"text-align: right;\">\n",
       "      <th></th>\n",
       "      <th>Country</th>\n",
       "      <th>Level of development</th>\n",
       "      <th>European Union Membership</th>\n",
       "      <th>Currency</th>\n",
       "    </tr>\n",
       "  </thead>\n",
       "  <tbody>\n",
       "    <tr>\n",
       "      <th>0</th>\n",
       "      <td>Austria</td>\n",
       "      <td>Developed</td>\n",
       "      <td>Member</td>\n",
       "      <td>Euro</td>\n",
       "    </tr>\n",
       "    <tr>\n",
       "      <th>1</th>\n",
       "      <td>Belgium</td>\n",
       "      <td>Developed</td>\n",
       "      <td>Member</td>\n",
       "      <td>Euro</td>\n",
       "    </tr>\n",
       "    <tr>\n",
       "      <th>2</th>\n",
       "      <td>Estonia</td>\n",
       "      <td>Developed</td>\n",
       "      <td>Member</td>\n",
       "      <td>Euro</td>\n",
       "    </tr>\n",
       "    <tr>\n",
       "      <th>3</th>\n",
       "      <td>Finland</td>\n",
       "      <td>Developed</td>\n",
       "      <td>Member</td>\n",
       "      <td>Euro</td>\n",
       "    </tr>\n",
       "    <tr>\n",
       "      <th>4</th>\n",
       "      <td>France</td>\n",
       "      <td>Developed</td>\n",
       "      <td>Member</td>\n",
       "      <td>Euro</td>\n",
       "    </tr>\n",
       "  </tbody>\n",
       "</table>\n",
       "</div>"
      ],
      "text/plain": [
       "   Country Level of development European Union Membership Currency\n",
       "0  Austria            Developed                    Member     Euro\n",
       "1  Belgium            Developed                    Member     Euro\n",
       "2  Estonia            Developed                    Member     Euro\n",
       "3  Finland            Developed                    Member     Euro\n",
       "4   France            Developed                    Member     Euro"
      ]
     },
     "execution_count": 69,
     "metadata": {},
     "output_type": "execute_result"
    }
   ],
   "source": [
    "categorical_data.head()"
   ]
  },
  {
   "cell_type": "code",
   "execution_count": 26,
   "metadata": {},
   "outputs": [],
   "source": [
    "#let us see the developed and developing countries here. "
   ]
  },
  {
   "cell_type": "code",
   "execution_count": 31,
   "metadata": {},
   "outputs": [
    {
     "name": "stdout",
     "output_type": "stream",
     "text": [
      "Developed 27\n",
      "Developing 24\n"
     ]
    },
    {
     "data": {
      "image/png": "[encoded data removed]",
      "text/plain": [
       "<Figure size 432x288 with 1 Axes>"
      ]
     },
     "metadata": {
      "needs_background": "light"
     },
     "output_type": "display_data"
    }
   ],
   "source": [
    "sns.countplot(data=categorical_data,x=\"Level of development\")\n",
    "Developed,Developing=categorical_data[\"Level of development\"].value_counts()\n",
    "print(\"Developed\", Developed)\n",
    "print(\"Developing\", Developing)\n",
    "plt.show()"
   ]
  },
  {
   "cell_type": "code",
   "execution_count": 38,
   "metadata": {},
   "outputs": [
    {
     "data": {
      "text/plain": [
       "National Currency    36\n",
       "Euro                 15\n",
       "Name: Currency, dtype: int64"
      ]
     },
     "execution_count": 38,
     "metadata": {},
     "output_type": "execute_result"
    }
   ],
   "source": [
    "categorical_data['Currency'].value_counts()"
   ]
  },
  {
   "cell_type": "code",
   "execution_count": 70,
   "metadata": {},
   "outputs": [
    {
     "name": "stdout",
     "output_type": "stream",
     "text": [
      "Euro 15\n",
      "National Currency 36\n"
     ]
    },
    {
     "data": {
      "image/png": "[encoded data removed]",
      "text/plain": [
       "<Figure size 432x288 with 1 Axes>"
      ]
     },
     "metadata": {
      "needs_background": "light"
     },
     "output_type": "display_data"
    }
   ],
   "source": [
    "#we can also see according to currency\n",
    "\n",
    "sns.countplot(data=categorical_data,x=\"Currency\")\n",
    "National, Euro=categorical_data[\"Currency\"].value_counts()\n",
    "print(\"Euro\", Euro)\n",
    "print(\"National Currency\", National)\n",
    "plt.show()"
   ]
  },
  {
   "cell_type": "code",
   "execution_count": 71,
   "metadata": {},
   "outputs": [
    {
     "name": "stdout",
     "output_type": "stream",
     "text": [
      "Not a Member 20\n",
      "Member 31\n"
     ]
    },
    {
     "data": {
      "image/png": "[encoded data removed]",
      "text/plain": [
       "<Figure size 432x288 with 1 Axes>"
      ]
     },
     "metadata": {
      "needs_background": "light"
     },
     "output_type": "display_data"
    }
   ],
   "source": [
    "#we can also see according to EU membership\n",
    "\n",
    "sns.countplot(data=categorical_data,x=\"European Union Membership\")\n",
    "Member,Not_Member=categorical_data[\"European Union Membership\"].value_counts()\n",
    "print(\"Not a Member\", Not_Member)\n",
    "print(\"Member\", Member)\n",
    "\n",
    "plt.show() "
   ]
  },
  {
   "cell_type": "code",
   "execution_count": 72,
   "metadata": {},
   "outputs": [],
   "source": [
    "num_data = data.select_dtypes(include=[np.number])"
   ]
  },
  {
   "cell_type": "markdown",
   "metadata": {},
   "source": [
    "Country-wise Women Enterprenurship Index"
   ]
  },
  {
   "cell_type": "code",
   "execution_count": 73,
   "metadata": {},
   "outputs": [
    {
     "data": {
      "image/png": "[encoded data removed]",
      "text/plain": [
       "<Figure size 864x504 with 1 Axes>"
      ]
     },
     "metadata": {
      "needs_background": "light"
     },
     "output_type": "display_data"
    }
   ],
   "source": [
    "plt.figure(figsize = (12,7))\n",
    "sns.barplot(x = categorical_data.Country, y = num_data['Women Entrepreneurship Index'])\n",
    "plt.xticks(rotation=90)\n",
    "plt.show()"
   ]
  },
  {
   "cell_type": "code",
   "execution_count": null,
   "metadata": {},
   "outputs": [],
   "source": [
    "Let us do Machine Learning Now"
   ]
  }
 ],
 "metadata": {
  "kernelspec": {
   "display_name": "Python 3",
   "language": "python",
   "name": "python3"
  },
  "language_info": {
   "codemirror_mode": {
    "name": "ipython",
    "version": 3
   },
   "file_extension": ".py",
   "mimetype": "text/x-python",
   "name": "python",
   "nbconvert_exporter": "python",
   "pygments_lexer": "ipython3",
   "version": "3.8.5"
  }
 },
 "nbformat": 4,
 "nbformat_minor": 4
}
